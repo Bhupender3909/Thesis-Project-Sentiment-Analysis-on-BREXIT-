{
  "nbformat": 4,
  "nbformat_minor": 0,
  "metadata": {
    "colab": {
      "name": "Bhupender_final code_updation.ipynb",
      "provenance": [],
      "collapsed_sections": []
    },
    "kernelspec": {
      "name": "python3",
      "display_name": "Python 3"
    }
  },
  "cells": [
    {
      "cell_type": "code",
      "metadata": {
        "id": "lhVCHWSA25Lf",
        "colab_type": "code",
        "outputId": "cab1db8d-3c6a-4e9a-dbcf-abb854386192",
        "colab": {
          "base_uri": "https://localhost:8080/",
          "height": 246
        }
      },
      "source": [
        "import os,pandas as pd\n",
        "\n",
        "files = [i for i in os.listdir('/content/drive/My Drive') if ('.xlsx' in i)]\n",
        "files\n",
        "\n"
      ],
      "execution_count": 0,
      "outputs": [
        {
          "output_type": "execute_result",
          "data": {
            "text/plain": [
              "['#BrexitUK.xlsx',\n",
              " 'Brexit_11.xlsx',\n",
              " '#ImmigrationBrexit.xlsx',\n",
              " '#Brecxit and Theresa May.xlsx',\n",
              " '#Brexit_1.xlsx',\n",
              " '#Brexit_2.xlsx',\n",
              " 'Brexit_13.xlsx',\n",
              " 'Brexit_10.xlsx',\n",
              " 'Brexit 18.xlsx',\n",
              " 'Brexit_12_47am.xlsx',\n",
              " 'Brexit 17.xlsx',\n",
              " 'Brexit_16.xlsx',\n",
              " 'Brexit 19.xlsx']"
            ]
          },
          "metadata": {
            "tags": []
          },
          "execution_count": 2
        }
      ]
    },
    {
      "cell_type": "code",
      "metadata": {
        "id": "UNNrxZug3Bqa",
        "colab_type": "code",
        "outputId": "cc79199f-ecf0-41af-d10e-e92e0c30645d",
        "colab": {
          "base_uri": "https://localhost:8080/",
          "height": 125
        }
      },
      "source": [
        "from google.colab import drive\n",
        "drive.mount('/content/drive')"
      ],
      "execution_count": 0,
      "outputs": [
        {
          "output_type": "stream",
          "text": [
            "Go to this URL in a browser: https://accounts.google.com/o/oauth2/auth?client_id=947318989803-6bn6qk8qdgf4n4g3pfee6491hc0brc4i.apps.googleusercontent.com&redirect_uri=urn%3Aietf%3Awg%3Aoauth%3A2.0%3Aoob&scope=email%20https%3A%2F%2Fwww.googleapis.com%2Fauth%2Fdocs.test%20https%3A%2F%2Fwww.googleapis.com%2Fauth%2Fdrive%20https%3A%2F%2Fwww.googleapis.com%2Fauth%2Fdrive.photos.readonly%20https%3A%2F%2Fwww.googleapis.com%2Fauth%2Fpeopleapi.readonly&response_type=code\n",
            "\n",
            "Enter your authorization code:\n",
            "··········\n",
            "Mounted at /content/drive\n"
          ],
          "name": "stdout"
        }
      ]
    },
    {
      "cell_type": "code",
      "metadata": {
        "id": "Rl8cbJrY3CgP",
        "colab_type": "code",
        "outputId": "bdaef875-9a4c-4f0b-f8b5-137ce291aba4",
        "colab": {
          "base_uri": "https://localhost:8080/",
          "height": 246
        }
      },
      "source": [
        "main_data = 0\n",
        "\n",
        "for f_i,i in enumerate(files):\n",
        "  if(f_i==0):\n",
        "    main_data = pd.read_excel('/content/drive/My Drive/{}'.format(i))\n",
        "  else:\n",
        "    df_ = pd.read_excel('/content/drive/My Drive/{}'.format(i))\n",
        "    main_data = pd.concat([main_data,df_])\n",
        "  \n",
        "  print(main_data.shape)\n",
        "  "
      ],
      "execution_count": 0,
      "outputs": [
        {
          "output_type": "stream",
          "text": [
            "(9, 18)\n",
            "(15, 18)\n",
            "(229, 18)\n",
            "(1233, 18)\n",
            "(14352, 18)\n",
            "(29206, 18)\n",
            "(44064, 18)\n",
            "(59118, 18)\n",
            "(75570, 18)\n",
            "(90633, 18)\n",
            "(106920, 18)\n",
            "(122415, 18)\n",
            "(139718, 18)\n"
          ],
          "name": "stdout"
        }
      ]
    },
    {
      "cell_type": "code",
      "metadata": {
        "id": "mliPhE_l4mUZ",
        "colab_type": "code",
        "colab": {}
      },
      "source": [
        "#!mv main_2lac.csv \"/content/drive/My Drive/DATASET/main_2lac.csv\""
      ],
      "execution_count": 0,
      "outputs": []
    },
    {
      "cell_type": "code",
      "metadata": {
        "id": "AXAKclO87fVe",
        "colab_type": "code",
        "colab": {}
      },
      "source": [
        "#main_data.head(2)"
      ],
      "execution_count": 0,
      "outputs": []
    },
    {
      "cell_type": "code",
      "metadata": {
        "id": "pOkiik306g73",
        "colab_type": "code",
        "outputId": "17bd9b5f-da1b-471a-ed7d-30b6c738c8f4",
        "colab": {
          "base_uri": "https://localhost:8080/",
          "height": 434
        }
      },
      "source": [
        "main = main_data[['created_at','entities_str','from_user','from_user_id_str','geo_coordinates','id_str','source','text','time','user_followers_count','user_friends_count','user_lang','user_location']]\n",
        "main.head(5)"
      ],
      "execution_count": 0,
      "outputs": [
        {
          "output_type": "execute_result",
          "data": {
            "text/html": [
              "<div>\n",
              "<style scoped>\n",
              "    .dataframe tbody tr th:only-of-type {\n",
              "        vertical-align: middle;\n",
              "    }\n",
              "\n",
              "    .dataframe tbody tr th {\n",
              "        vertical-align: top;\n",
              "    }\n",
              "\n",
              "    .dataframe thead th {\n",
              "        text-align: right;\n",
              "    }\n",
              "</style>\n",
              "<table border=\"1\" class=\"dataframe\">\n",
              "  <thead>\n",
              "    <tr style=\"text-align: right;\">\n",
              "      <th></th>\n",
              "      <th>created_at</th>\n",
              "      <th>entities_str</th>\n",
              "      <th>from_user</th>\n",
              "      <th>from_user_id_str</th>\n",
              "      <th>geo_coordinates</th>\n",
              "      <th>id_str</th>\n",
              "      <th>source</th>\n",
              "      <th>text</th>\n",
              "      <th>time</th>\n",
              "      <th>user_followers_count</th>\n",
              "      <th>user_friends_count</th>\n",
              "      <th>user_lang</th>\n",
              "      <th>user_location</th>\n",
              "    </tr>\n",
              "  </thead>\n",
              "  <tbody>\n",
              "    <tr>\n",
              "      <th>0</th>\n",
              "      <td>Mon Jul 15 18:57:50 +0000 2019</td>\n",
              "      <td>{\"hashtags\":[{\"text\":\"cdnpoli\",\"indices\":[10,1...</td>\n",
              "      <td>ltmcdies</td>\n",
              "      <td>104037382</td>\n",
              "      <td>NaN</td>\n",
              "      <td>1150841920110751746</td>\n",
              "      <td>&lt;a href=\"https://mobile.twitter.com\" rel=\"nofo...</td>\n",
              "      <td>Works for #cdnpoli too, kids we have an import...</td>\n",
              "      <td>2019-07-15 19:57:50</td>\n",
              "      <td>948.0</td>\n",
              "      <td>316.0</td>\n",
              "      <td>NaN</td>\n",
              "      <td>British Columbia Canada</td>\n",
              "    </tr>\n",
              "    <tr>\n",
              "      <th>1</th>\n",
              "      <td>Mon Jul 15 17:09:01 +0000 2019</td>\n",
              "      <td>{\"hashtags\":[{\"text\":\"Brexit\",\"indices\":[36,43...</td>\n",
              "      <td>THPaccountants</td>\n",
              "      <td>386134868</td>\n",
              "      <td>NaN</td>\n",
              "      <td>1150814538486489088</td>\n",
              "      <td>&lt;a href=\"https://buffer.com\" rel=\"nofollow\"&gt;Bu...</td>\n",
              "      <td>HMRC’s Agent Update leads on Brexit\\n#Brexit #...</td>\n",
              "      <td>2019-07-15 18:09:01</td>\n",
              "      <td>2477.0</td>\n",
              "      <td>2754.0</td>\n",
              "      <td>NaN</td>\n",
              "      <td>Wanstead London</td>\n",
              "    </tr>\n",
              "    <tr>\n",
              "      <th>2</th>\n",
              "      <td>Mon Jul 15 15:55:53 +0000 2019</td>\n",
              "      <td>{\"hashtags\":[{\"text\":\"GE\",\"indices\":[92,95]}],...</td>\n",
              "      <td>BillyTh87950625</td>\n",
              "      <td>1086728994706333699</td>\n",
              "      <td>NaN</td>\n",
              "      <td>1150796134878724096</td>\n",
              "      <td>&lt;a href=\"http://twitter.com/download/android\" ...</td>\n",
              "      <td>RT @BillyTh87950625: U think u mite b a hero @...</td>\n",
              "      <td>2019-07-15 16:55:53</td>\n",
              "      <td>75.0</td>\n",
              "      <td>46.0</td>\n",
              "      <td>NaN</td>\n",
              "      <td>NaN</td>\n",
              "    </tr>\n",
              "    <tr>\n",
              "      <th>3</th>\n",
              "      <td>Mon Jul 15 06:55:22 +0000 2019</td>\n",
              "      <td>{\"hashtags\":[{\"text\":\"BrexitUK\",\"indices\":[22,...</td>\n",
              "      <td>GlobeTrekViews</td>\n",
              "      <td>863842593494507521</td>\n",
              "      <td>NaN</td>\n",
              "      <td>1150660108407443456</td>\n",
              "      <td>&lt;a href=\"http://twitter.com/download/iphone\" r...</td>\n",
              "      <td>@thetimes Apparently, #BrexitUK taking back co...</td>\n",
              "      <td>2019-07-15 07:55:22</td>\n",
              "      <td>64.0</td>\n",
              "      <td>98.0</td>\n",
              "      <td>NaN</td>\n",
              "      <td>Instagram: globetrekviews</td>\n",
              "    </tr>\n",
              "    <tr>\n",
              "      <th>4</th>\n",
              "      <td>Sun Jul 14 11:04:30 +0000 2019</td>\n",
              "      <td>{\"hashtags\":[{\"text\":\"GE\",\"indices\":[71,74]},{...</td>\n",
              "      <td>BillyTh87950625</td>\n",
              "      <td>1086728994706333699</td>\n",
              "      <td>NaN</td>\n",
              "      <td>1150360415697874945</td>\n",
              "      <td>&lt;a href=\"http://twitter.com/download/android\" ...</td>\n",
              "      <td>U think u mite b a hero @thatginamiller? If u ...</td>\n",
              "      <td>2019-07-14 12:04:30</td>\n",
              "      <td>75.0</td>\n",
              "      <td>46.0</td>\n",
              "      <td>NaN</td>\n",
              "      <td>NaN</td>\n",
              "    </tr>\n",
              "  </tbody>\n",
              "</table>\n",
              "</div>"
            ],
            "text/plain": [
              "                       created_at  ...              user_location\n",
              "0  Mon Jul 15 18:57:50 +0000 2019  ...    British Columbia Canada\n",
              "1  Mon Jul 15 17:09:01 +0000 2019  ...            Wanstead London\n",
              "2  Mon Jul 15 15:55:53 +0000 2019  ...                        NaN\n",
              "3  Mon Jul 15 06:55:22 +0000 2019  ...  Instagram: globetrekviews\n",
              "4  Sun Jul 14 11:04:30 +0000 2019  ...                        NaN\n",
              "\n",
              "[5 rows x 13 columns]"
            ]
          },
          "metadata": {
            "tags": []
          },
          "execution_count": 4
        }
      ]
    },
    {
      "cell_type": "code",
      "metadata": {
        "id": "BKH6ixfW7WM1",
        "colab_type": "code",
        "colab": {}
      },
      "source": [
        "from textblob import TextBlob\n",
        "import re\n",
        "#processing tweets\n",
        "# mentions = []\n",
        "# hashtags = []\n",
        "processed = []\n",
        "polarity = []\n",
        "subj = []\n",
        "decider = []\n",
        "\n",
        "for tweet in main['text'].values:\n",
        "    \n",
        "    #print(tweet)\n",
        "#     colon_rem = tweet.split(':')[1]\n",
        "    colon_rem = re.sub('(@[^ ]+|#[^ ]+|\\\\n|http[^ ]+|[^\\w ])','',tweet.lower())\n",
        "   \n",
        "  \n",
        "    processed.append(colon_rem.strip())\n",
        "    tw = TextBlob(colon_rem.strip())\n",
        "    \n",
        "    polarity.append(tw.sentiment.polarity)\n",
        "    if tw.sentiment.polarity==0:\n",
        "      decider.append('NEUTRAL')\n",
        "    elif tw.sentiment.polarity<0:\n",
        "      decider.append('NEGATIVE')\n",
        "    else:\n",
        "      decider.append('POSITIVE')\n",
        "      \n",
        "        \n",
        "    subj.append(tw.sentiment.subjectivity)\n",
        "    \n"
      ],
      "execution_count": 0,
      "outputs": []
    },
    {
      "cell_type": "code",
      "metadata": {
        "id": "jhCoyld6ashD",
        "colab_type": "code",
        "outputId": "c5c378e5-a3ad-4438-cd47-215991c83359",
        "colab": {
          "base_uri": "https://localhost:8080/",
          "height": 107
        }
      },
      "source": [
        "if isinstance(tweet,(str,)):\n",
        "    print(tweet)\n",
        "print(tweet)"
      ],
      "execution_count": 0,
      "outputs": [
        {
          "output_type": "stream",
          "text": [
            "RT @EliasMichalas: Brexit: Expats in Europe could sue Britain over loss of rights\n",
            "https://t.co/hWnWUiHyci #lbc #fbpe #conservatives #labour #libdems #snp #plaidcymru #PeoplesVote #StopBrexit #brexit #itvnews #bbcnews #PoliticsLive #c4news #5news #skynews #c4brexit #Newsnight #bbcqt #bbctw #momentum\n",
            "RT @EliasMichalas: Brexit: Expats in Europe could sue Britain over loss of rights\n",
            "https://t.co/hWnWUiHyci #lbc #fbpe #conservatives #labour #libdems #snp #plaidcymru #PeoplesVote #StopBrexit #brexit #itvnews #bbcnews #PoliticsLive #c4news #5news #skynews #c4brexit #Newsnight #bbcqt #bbctw #momentum\n"
          ],
          "name": "stdout"
        }
      ]
    },
    {
      "cell_type": "code",
      "metadata": {
        "id": "TSlm3EcNZf4U",
        "colab_type": "code",
        "colab": {}
      },
      "source": [
        "import re"
      ],
      "execution_count": 0,
      "outputs": []
    },
    {
      "cell_type": "code",
      "metadata": {
        "id": "90-PiiuR8xbV",
        "colab_type": "code",
        "outputId": "73658f21-a071-4647-8dca-b5d145109661",
        "colab": {
          "base_uri": "https://localhost:8080/",
          "height": 439
        }
      },
      "source": [
        "main['processed']  = pd.Series(processed)\n",
        "main['Polarity TextBlob'] = pd.Series(polarity)\n",
        "main['Subjectivity'] = pd.Series(subj)\n",
        "\n",
        "main['SENTIMENT_TYPE']  = pd.Series(decider)\n"
      ],
      "execution_count": 0,
      "outputs": [
        {
          "output_type": "stream",
          "text": [
            "/usr/local/lib/python3.6/dist-packages/ipykernel_launcher.py:1: SettingWithCopyWarning: \n",
            "A value is trying to be set on a copy of a slice from a DataFrame.\n",
            "Try using .loc[row_indexer,col_indexer] = value instead\n",
            "\n",
            "See the caveats in the documentation: http://pandas.pydata.org/pandas-docs/stable/indexing.html#indexing-view-versus-copy\n",
            "  \"\"\"Entry point for launching an IPython kernel.\n",
            "/usr/local/lib/python3.6/dist-packages/ipykernel_launcher.py:2: SettingWithCopyWarning: \n",
            "A value is trying to be set on a copy of a slice from a DataFrame.\n",
            "Try using .loc[row_indexer,col_indexer] = value instead\n",
            "\n",
            "See the caveats in the documentation: http://pandas.pydata.org/pandas-docs/stable/indexing.html#indexing-view-versus-copy\n",
            "  \n",
            "/usr/local/lib/python3.6/dist-packages/ipykernel_launcher.py:3: SettingWithCopyWarning: \n",
            "A value is trying to be set on a copy of a slice from a DataFrame.\n",
            "Try using .loc[row_indexer,col_indexer] = value instead\n",
            "\n",
            "See the caveats in the documentation: http://pandas.pydata.org/pandas-docs/stable/indexing.html#indexing-view-versus-copy\n",
            "  This is separate from the ipykernel package so we can avoid doing imports until\n",
            "/usr/local/lib/python3.6/dist-packages/ipykernel_launcher.py:5: SettingWithCopyWarning: \n",
            "A value is trying to be set on a copy of a slice from a DataFrame.\n",
            "Try using .loc[row_indexer,col_indexer] = value instead\n",
            "\n",
            "See the caveats in the documentation: http://pandas.pydata.org/pandas-docs/stable/indexing.html#indexing-view-versus-copy\n",
            "  \"\"\"\n"
          ],
          "name": "stderr"
        }
      ]
    },
    {
      "cell_type": "code",
      "metadata": {
        "id": "ma2knfdn9Hbr",
        "colab_type": "code",
        "outputId": "26fa37aa-0307-4c75-fa42-230360104e60",
        "colab": {
          "base_uri": "https://localhost:8080/",
          "height": 278
        }
      },
      "source": [
        "main.head(2)"
      ],
      "execution_count": 0,
      "outputs": [
        {
          "output_type": "execute_result",
          "data": {
            "text/html": [
              "<div>\n",
              "<style scoped>\n",
              "    .dataframe tbody tr th:only-of-type {\n",
              "        vertical-align: middle;\n",
              "    }\n",
              "\n",
              "    .dataframe tbody tr th {\n",
              "        vertical-align: top;\n",
              "    }\n",
              "\n",
              "    .dataframe thead th {\n",
              "        text-align: right;\n",
              "    }\n",
              "</style>\n",
              "<table border=\"1\" class=\"dataframe\">\n",
              "  <thead>\n",
              "    <tr style=\"text-align: right;\">\n",
              "      <th></th>\n",
              "      <th>created_at</th>\n",
              "      <th>entities_str</th>\n",
              "      <th>from_user</th>\n",
              "      <th>from_user_id_str</th>\n",
              "      <th>geo_coordinates</th>\n",
              "      <th>id_str</th>\n",
              "      <th>source</th>\n",
              "      <th>text</th>\n",
              "      <th>time</th>\n",
              "      <th>user_followers_count</th>\n",
              "      <th>user_friends_count</th>\n",
              "      <th>user_lang</th>\n",
              "      <th>user_location</th>\n",
              "      <th>processed</th>\n",
              "      <th>Polarity TextBlob</th>\n",
              "      <th>Subjectivity</th>\n",
              "      <th>SENTIMENT_TYPE</th>\n",
              "    </tr>\n",
              "  </thead>\n",
              "  <tbody>\n",
              "    <tr>\n",
              "      <th>0</th>\n",
              "      <td>Mon Jul 15 18:57:50 +0000 2019</td>\n",
              "      <td>{\"hashtags\":[{\"text\":\"cdnpoli\",\"indices\":[10,1...</td>\n",
              "      <td>ltmcdies</td>\n",
              "      <td>104037382</td>\n",
              "      <td>NaN</td>\n",
              "      <td>1150841920110751746</td>\n",
              "      <td>&lt;a href=\"https://mobile.twitter.com\" rel=\"nofo...</td>\n",
              "      <td>Works for #cdnpoli too, kids we have an import...</td>\n",
              "      <td>2019-07-15 19:57:50</td>\n",
              "      <td>948.0</td>\n",
              "      <td>316.0</td>\n",
              "      <td>NaN</td>\n",
              "      <td>British Columbia Canada</td>\n",
              "      <td>works for  too kids we have an important  comi...</td>\n",
              "      <td>0.4</td>\n",
              "      <td>1.0</td>\n",
              "      <td>POSITIVE</td>\n",
              "    </tr>\n",
              "    <tr>\n",
              "      <th>1</th>\n",
              "      <td>Mon Jul 15 17:09:01 +0000 2019</td>\n",
              "      <td>{\"hashtags\":[{\"text\":\"Brexit\",\"indices\":[36,43...</td>\n",
              "      <td>THPaccountants</td>\n",
              "      <td>386134868</td>\n",
              "      <td>NaN</td>\n",
              "      <td>1150814538486489088</td>\n",
              "      <td>&lt;a href=\"https://buffer.com\" rel=\"nofollow\"&gt;Bu...</td>\n",
              "      <td>HMRC’s Agent Update leads on Brexit\\n#Brexit #...</td>\n",
              "      <td>2019-07-15 18:09:01</td>\n",
              "      <td>2477.0</td>\n",
              "      <td>2754.0</td>\n",
              "      <td>NaN</td>\n",
              "      <td>Wanstead London</td>\n",
              "      <td>hmrcs agent update leads on brexit</td>\n",
              "      <td>0.0</td>\n",
              "      <td>0.0</td>\n",
              "      <td>NEUTRAL</td>\n",
              "    </tr>\n",
              "  </tbody>\n",
              "</table>\n",
              "</div>"
            ],
            "text/plain": [
              "                       created_at  ... SENTIMENT_TYPE\n",
              "0  Mon Jul 15 18:57:50 +0000 2019  ...       POSITIVE\n",
              "1  Mon Jul 15 17:09:01 +0000 2019  ...        NEUTRAL\n",
              "\n",
              "[2 rows x 17 columns]"
            ]
          },
          "metadata": {
            "tags": []
          },
          "execution_count": 9
        }
      ]
    },
    {
      "cell_type": "code",
      "metadata": {
        "id": "T_Cndml79uVG",
        "colab_type": "code",
        "outputId": "2b5f7bd2-60a2-4c06-9d57-2cc2b3d0c7aa",
        "colab": {
          "base_uri": "https://localhost:8080/",
          "height": 34
        }
      },
      "source": [
        "len(processed)"
      ],
      "execution_count": 0,
      "outputs": [
        {
          "output_type": "execute_result",
          "data": {
            "text/plain": [
              "139718"
            ]
          },
          "metadata": {
            "tags": []
          },
          "execution_count": 10
        }
      ]
    },
    {
      "cell_type": "code",
      "metadata": {
        "id": "rlnN9R_m-keG",
        "colab_type": "code",
        "colab": {}
      },
      "source": [
        "main.to_csv('main_with_sentiment_NEW.csv')"
      ],
      "execution_count": 0,
      "outputs": []
    },
    {
      "cell_type": "code",
      "metadata": {
        "id": "5z9hHbg6BZ2r",
        "colab_type": "code",
        "outputId": "4a5793a6-add6-4cd8-81a3-26c990b2a5ba",
        "colab": {
          "base_uri": "https://localhost:8080/",
          "height": 34
        }
      },
      "source": [
        "!mv main_with_sentiment_NEW.csv \"/content/drive/My Drive/DATASET/main_2lac_sentiment_NEW.csv\""
      ],
      "execution_count": 0,
      "outputs": [
        {
          "output_type": "stream",
          "text": [
            "mv: cannot move 'main_with_sentiment_NEW.csv' to '/content/drive/My Drive/DATASET/main_2lac_sentiment_NEW.csv': No such file or directory\n"
          ],
          "name": "stdout"
        }
      ]
    },
    {
      "cell_type": "code",
      "metadata": {
        "id": "T8r4WueeBh3e",
        "colab_type": "code",
        "colab": {}
      },
      "source": [
        ""
      ],
      "execution_count": 0,
      "outputs": []
    }
  ]
}